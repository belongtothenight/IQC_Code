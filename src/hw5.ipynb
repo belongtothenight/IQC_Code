{
 "cells": [
  {
   "attachments": {},
   "cell_type": "markdown",
   "metadata": {},
   "source": [
    "# Create \"iY\" gate equivalent circuit\n",
    "\n",
    "$\\because Y=\\left[\\begin{array}{ll}0&-i\\\\i&0\\end{array}\\right]$\n",
    "$\\therefore iY=\\left[\\begin{array}{ll}0&1\\\\-1&0\\end{array}\\right]$\n",
    "\n",
    "1. use rotation \"$R$\"     \" gate to create \"iY\" gate\n",
    "2. use \"$U_3$\" gate to create \"iY\" gate\n",
    "3. use another method to create \"iY\" gate\n",
    "\t1. hint, in last page of representation about mathmatics backgroud"
   ]
  },
  {
   "attachments": {},
   "cell_type": "markdown",
   "metadata": {},
   "source": [
    "## Method 1 R gate\n",
    "$R_y(-\\pi)=iY$"
   ]
  },
  {
   "cell_type": "code",
   "execution_count": 9,
   "metadata": {},
   "outputs": [
    {
     "name": "stdout",
     "output_type": "stream",
     "text": [
      "Operator([[ 0.+0.j,  1.+0.j],\n",
      "          [-1.+0.j,  0.+0.j]],\n",
      "         input_dims=(2,), output_dims=(2,))\n"
     ]
    }
   ],
   "source": [
    "import numpy as np\n",
    "from qiskit import *\n",
    "from qiskit import Aer\n",
    "\n",
    "backend = Aer.get_backend('unitary_simulator')\n",
    "\n",
    "circ = QuantumCircuit(1, 1)\n",
    "circ.ry(-np.pi, 0)\n",
    "\n",
    "job = execute(circ, backend)\n",
    "result = job.result()\n",
    "\n",
    "print(result.get_unitary(circ, decimals=3))"
   ]
  },
  {
   "attachments": {},
   "cell_type": "markdown",
   "metadata": {},
   "source": [
    "## Method 2 U3 gate\n",
    "$U(\\theta,\\phi,\\lambda)=U(-\\pi,0,0)=iY$"
   ]
  },
  {
   "cell_type": "code",
   "execution_count": 10,
   "metadata": {},
   "outputs": [
    {
     "name": "stdout",
     "output_type": "stream",
     "text": [
      "Operator([[ 0.+0.j,  1.+0.j],\n",
      "          [-1.+0.j,  0.+0.j]],\n",
      "         input_dims=(2,), output_dims=(2,))\n"
     ]
    }
   ],
   "source": [
    "import numpy as np\n",
    "from qiskit import *\n",
    "from qiskit import Aer\n",
    "\n",
    "backend = Aer.get_backend('unitary_simulator')\n",
    "\n",
    "circ = QuantumCircuit(1, 1)\n",
    "circ.u(-np.pi, 0, 0, 0)\n",
    "\n",
    "job = execute(circ, backend)\n",
    "result = job.result()\n",
    "\n",
    "print(result.get_unitary(circ, decimals=3))"
   ]
  },
  {
   "attachments": {},
   "cell_type": "markdown",
   "metadata": {},
   "source": [
    "## Method 3 Commutator\n",
    "\n",
    "$[Z,X]=ZX-XZ=2iY$"
   ]
  },
  {
   "cell_type": "code",
   "execution_count": 11,
   "metadata": {},
   "outputs": [
    {
     "name": "stdout",
     "output_type": "stream",
     "text": [
      "Operator([[ 0.+0.j,  1.+0.j],\n",
      "          [-1.-0.j,  0.+0.j]],\n",
      "         input_dims=(2,), output_dims=(2,))\n"
     ]
    }
   ],
   "source": [
    "import numpy as np\n",
    "from qiskit import *\n",
    "from qiskit import Aer\n",
    "\n",
    "backend = Aer.get_backend('unitary_simulator')\n",
    "\n",
    "circ = QuantumCircuit(1, 1)\n",
    "circ.x(0)\n",
    "circ.z(0)\n",
    "\n",
    "job = execute(circ, backend)\n",
    "result = job.result()\n",
    "\n",
    "print(result.get_unitary(circ, decimals=3))"
   ]
  }
 ],
 "metadata": {
  "kernelspec": {
   "display_name": "Python 3",
   "language": "python",
   "name": "python3"
  },
  "language_info": {
   "codemirror_mode": {
    "name": "ipython",
    "version": 3
   },
   "file_extension": ".py",
   "mimetype": "text/x-python",
   "name": "python",
   "nbconvert_exporter": "python",
   "pygments_lexer": "ipython3",
   "version": "3.10.8"
  },
  "orig_nbformat": 4
 },
 "nbformat": 4,
 "nbformat_minor": 2
}
