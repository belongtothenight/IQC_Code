{
 "cells": [
  {
   "cell_type": "code",
   "execution_count": 1,
   "metadata": {},
   "outputs": [],
   "source": [
    "import numpy as np\n",
    "import pandas as pd\n",
    "from itertools import product\n",
    "from qiskit import QuantumCircuit, ClassicalRegister, QuantumRegister\n",
    "from qiskit.quantum_info import Statevector\n",
    "from qiskit.visualization import array_to_latex\n",
    "from qiskit.quantum_info import Operator\n",
    "from qiskit import transpile\n",
    "from qiskit_aer import AerSimulator\n",
    "from qiskit.visualization import plot_histogram\n",
    "import qiskit.tools.jupyter\n"
   ]
  },
  {
   "cell_type": "code",
   "execution_count": 2,
   "metadata": {},
   "outputs": [],
   "source": [
    "def testCircuit(circ, shots, printCnt=False, plotCnt=False):\n",
    "    backend = AerSimulator()\n",
    "    qc_compiled = transpile(circ, backend)\n",
    "    job_sim = backend.run(qc_compiled, shots=shots)\n",
    "    result_sim = job_sim.result()\n",
    "    counts = result_sim.get_counts(circ)\n",
    "    if printCnt:\n",
    "        print(f\"Counts: {counts}\")\n",
    "    if plotCnt:\n",
    "        plot_histogram(counts)\n",
    "    return counts"
   ]
  },
  {
   "cell_type": "code",
   "execution_count": 3,
   "metadata": {},
   "outputs": [],
   "source": [
    "def result_to_df(result):\n",
    "    df = pd.DataFrame(result)\n",
    "    df = df.fillna(0).astype(int)\n",
    "    return df"
   ]
  },
  {
   "cell_type": "code",
   "execution_count": 4,
   "metadata": {},
   "outputs": [],
   "source": [
    "def result_to_truth_table(qIn, qOut, result):\n",
    "    tt = []\n",
    "    for x in result:\n",
    "        keyList = list(x.keys())\n",
    "        for k in keyList:\n",
    "            tmp = [*k]\n",
    "            tmp = [int(i) for i in tmp]\n",
    "            tmp.reverse()\n",
    "            tt.append(tmp)\n",
    "    tt.sort()\n",
    "    df = pd.DataFrame(tt)\n",
    "    colName = ['qIn'] * qIn + ['qOut'] * qOut\n",
    "    df.columns = colName\n",
    "    return df"
   ]
  },
  {
   "cell_type": "code",
   "execution_count": 5,
   "metadata": {},
   "outputs": [],
   "source": [
    "def apply_circ(gate='AND', printResult=False, returnData=False):\n",
    "    if gate in ['AND', 'OR', 'XOR', 'NAND', 'NOR', 'XNOR']:\n",
    "        qIn = 2\n",
    "        qOut = 1\n",
    "    elif gate in ['Full-Adder', 'Half-Adder']:\n",
    "        qIn = 3\n",
    "        qOut = 2\n",
    "    q = qIn + qOut\n",
    "    c = q\n",
    "    result = []\n",
    "    # for i in range(repeat):\n",
    "    for bits in product([0, 1], repeat=qIn):\n",
    "        circ = QuantumCircuit(q, c)\n",
    "        # Initialize qubits state\n",
    "        for i, bit in enumerate(bits):\n",
    "            if bit == 1:\n",
    "                circ.x(i)\n",
    "        circ.barrier(range(q))\n",
    "        # gate\n",
    "        if gate == 'AND':\n",
    "            circ.ccx(0, 1, 2)\n",
    "        elif gate == 'OR':\n",
    "            circ.cx(0, 2)\n",
    "            circ.cx(1, 2)\n",
    "            circ.ccx(0, 1, 2)\n",
    "        elif gate == 'XOR':\n",
    "            circ.cx(0, 2)\n",
    "            circ.cx(1, 2)\n",
    "        elif gate == 'NAND':\n",
    "            circ.ccx(0, 1, 2)\n",
    "            circ.x(2)\n",
    "        elif gate == 'NOR':\n",
    "            circ.cx(0, 2)\n",
    "            circ.cx(1, 2)\n",
    "            circ.ccx(0, 1, 2)\n",
    "            circ.x(2)\n",
    "        elif gate == 'XNOR':\n",
    "            circ.cx(0, 2)\n",
    "            circ.cx(1, 2)\n",
    "            circ.x(2)\n",
    "        elif gate == 'Full-Adder':\n",
    "            circ.cx(0, 3)\n",
    "            circ.cx(1, 3)\n",
    "            circ.cx(2, 3)\n",
    "            circ.ccx(0, 1, 4)\n",
    "            circ.ccx(0, 2, 4)\n",
    "            circ.ccx(1, 2, 4)\n",
    "        # END gate\n",
    "        circ.barrier(range(q))\n",
    "        circ.measure(range(q), range(q))\n",
    "        # print(testCircuit(circ, 1024, False, False))\n",
    "        result.append(testCircuit(circ, 1024, False, False))\n",
    "\n",
    "    distribution = result_to_df(result)\n",
    "    truth_table = result_to_truth_table(qIn, qOut, result)\n",
    "    \n",
    "    if printResult:\n",
    "        print(f\"Result: {result}\")\n",
    "        print(f\"Distribution: \\n{distribution}\")\n",
    "        print(f\"Truth Table: \\n{truth_table}\")\n",
    "\n",
    "    if returnData:\n",
    "        return result, distribution, truth_table"
   ]
  },
  {
   "attachments": {},
   "cell_type": "markdown",
   "metadata": {},
   "source": [
    "## AND gate"
   ]
  },
  {
   "cell_type": "code",
   "execution_count": 6,
   "metadata": {},
   "outputs": [
    {
     "name": "stdout",
     "output_type": "stream",
     "text": [
      "Result: [{'000': 1024}, {'010': 1024}, {'001': 1024}, {'111': 1024}]\n",
      "Distribution: \n",
      "    000   010   001   111\n",
      "0  1024     0     0     0\n",
      "1     0  1024     0     0\n",
      "2     0     0  1024     0\n",
      "3     0     0     0  1024\n",
      "Truth Table: \n",
      "   qIn  qIn  qOut\n",
      "0    0    0     0\n",
      "1    0    1     0\n",
      "2    1    0     0\n",
      "3    1    1     1\n"
     ]
    }
   ],
   "source": [
    "apply_circ('AND', True)"
   ]
  },
  {
   "attachments": {},
   "cell_type": "markdown",
   "metadata": {},
   "source": [
    "## OR gate"
   ]
  },
  {
   "cell_type": "code",
   "execution_count": 7,
   "metadata": {},
   "outputs": [
    {
     "name": "stdout",
     "output_type": "stream",
     "text": [
      "Result: [{'000': 1024}, {'110': 1024}, {'101': 1024}, {'111': 1024}]\n",
      "Distribution: \n",
      "    000   110   101   111\n",
      "0  1024     0     0     0\n",
      "1     0  1024     0     0\n",
      "2     0     0  1024     0\n",
      "3     0     0     0  1024\n",
      "Truth Table: \n",
      "   qIn  qIn  qOut\n",
      "0    0    0     0\n",
      "1    0    1     1\n",
      "2    1    0     1\n",
      "3    1    1     1\n"
     ]
    }
   ],
   "source": [
    "apply_circ('OR', True)\n"
   ]
  },
  {
   "attachments": {},
   "cell_type": "markdown",
   "metadata": {},
   "source": [
    "## XOR gate"
   ]
  },
  {
   "cell_type": "code",
   "execution_count": 8,
   "metadata": {},
   "outputs": [
    {
     "name": "stdout",
     "output_type": "stream",
     "text": [
      "Result: [{'000': 1024}, {'110': 1024}, {'101': 1024}, {'011': 1024}]\n",
      "Distribution: \n",
      "    000   110   101   011\n",
      "0  1024     0     0     0\n",
      "1     0  1024     0     0\n",
      "2     0     0  1024     0\n",
      "3     0     0     0  1024\n",
      "Truth Table: \n",
      "   qIn  qIn  qOut\n",
      "0    0    0     0\n",
      "1    0    1     1\n",
      "2    1    0     1\n",
      "3    1    1     0\n"
     ]
    }
   ],
   "source": [
    "apply_circ('XOR', True)"
   ]
  },
  {
   "attachments": {},
   "cell_type": "markdown",
   "metadata": {},
   "source": [
    "## NAND gate"
   ]
  },
  {
   "cell_type": "code",
   "execution_count": 9,
   "metadata": {},
   "outputs": [
    {
     "name": "stdout",
     "output_type": "stream",
     "text": [
      "Result: [{'100': 1024}, {'110': 1024}, {'101': 1024}, {'011': 1024}]\n",
      "Distribution: \n",
      "    100   110   101   011\n",
      "0  1024     0     0     0\n",
      "1     0  1024     0     0\n",
      "2     0     0  1024     0\n",
      "3     0     0     0  1024\n",
      "Truth Table: \n",
      "   qIn  qIn  qOut\n",
      "0    0    0     1\n",
      "1    0    1     1\n",
      "2    1    0     1\n",
      "3    1    1     0\n"
     ]
    }
   ],
   "source": [
    "apply_circ('NAND', True)"
   ]
  },
  {
   "attachments": {},
   "cell_type": "markdown",
   "metadata": {},
   "source": [
    "## NOR gate"
   ]
  },
  {
   "cell_type": "code",
   "execution_count": 10,
   "metadata": {},
   "outputs": [
    {
     "name": "stdout",
     "output_type": "stream",
     "text": [
      "Result: [{'100': 1024}, {'010': 1024}, {'001': 1024}, {'011': 1024}]\n",
      "Distribution: \n",
      "    100   010   001   011\n",
      "0  1024     0     0     0\n",
      "1     0  1024     0     0\n",
      "2     0     0  1024     0\n",
      "3     0     0     0  1024\n",
      "Truth Table: \n",
      "   qIn  qIn  qOut\n",
      "0    0    0     1\n",
      "1    0    1     0\n",
      "2    1    0     0\n",
      "3    1    1     0\n"
     ]
    }
   ],
   "source": [
    "apply_circ('NOR', True)"
   ]
  },
  {
   "attachments": {},
   "cell_type": "markdown",
   "metadata": {},
   "source": [
    "## XNOR gate"
   ]
  },
  {
   "cell_type": "code",
   "execution_count": 11,
   "metadata": {},
   "outputs": [
    {
     "name": "stdout",
     "output_type": "stream",
     "text": [
      "Result: [{'100': 1024}, {'010': 1024}, {'001': 1024}, {'111': 1024}]\n",
      "Distribution: \n",
      "    100   010   001   111\n",
      "0  1024     0     0     0\n",
      "1     0  1024     0     0\n",
      "2     0     0  1024     0\n",
      "3     0     0     0  1024\n",
      "Truth Table: \n",
      "   qIn  qIn  qOut\n",
      "0    0    0     1\n",
      "1    0    1     0\n",
      "2    1    0     0\n",
      "3    1    1     1\n"
     ]
    }
   ],
   "source": [
    "apply_circ('XNOR', True)"
   ]
  },
  {
   "attachments": {},
   "cell_type": "markdown",
   "metadata": {},
   "source": [
    "## Full-Adder Circuit"
   ]
  },
  {
   "cell_type": "code",
   "execution_count": 12,
   "metadata": {},
   "outputs": [
    {
     "name": "stdout",
     "output_type": "stream",
     "text": [
      "Result: [{'00000': 1024}, {'01100': 1024}, {'01010': 1024}, {'10110': 1024}, {'01001': 1024}, {'10101': 1024}, {'10011': 1024}, {'11111': 1024}]\n",
      "Distribution: \n",
      "   00000  01100  01010  10110  01001  10101  10011  11111\n",
      "0   1024      0      0      0      0      0      0      0\n",
      "1      0   1024      0      0      0      0      0      0\n",
      "2      0      0   1024      0      0      0      0      0\n",
      "3      0      0      0   1024      0      0      0      0\n",
      "4      0      0      0      0   1024      0      0      0\n",
      "5      0      0      0      0      0   1024      0      0\n",
      "6      0      0      0      0      0      0   1024      0\n",
      "7      0      0      0      0      0      0      0   1024\n",
      "Truth Table: \n",
      "   qIn  qIn  qIn  qOut  qOut\n",
      "0    0    0    0     0     0\n",
      "1    0    0    1     1     0\n",
      "2    0    1    0     1     0\n",
      "3    0    1    1     0     1\n",
      "4    1    0    0     1     0\n",
      "5    1    0    1     0     1\n",
      "6    1    1    0     0     1\n",
      "7    1    1    1     1     1\n"
     ]
    }
   ],
   "source": [
    "apply_circ('Full-Adder', True)"
   ]
  }
 ],
 "metadata": {
  "kernelspec": {
   "display_name": "Python 3",
   "language": "python",
   "name": "python3"
  },
  "language_info": {
   "codemirror_mode": {
    "name": "ipython",
    "version": 3
   },
   "file_extension": ".py",
   "mimetype": "text/x-python",
   "name": "python",
   "nbconvert_exporter": "python",
   "pygments_lexer": "ipython3",
   "version": "3.10.8"
  },
  "orig_nbformat": 4
 },
 "nbformat": 4,
 "nbformat_minor": 2
}
