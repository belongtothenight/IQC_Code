{
 "cells": [
  {
   "cell_type": "code",
   "execution_count": 168,
   "metadata": {},
   "outputs": [],
   "source": [
    "import numpy as np\n",
    "import pandas as pd\n",
    "from itertools import product\n",
    "from qiskit import QuantumCircuit, ClassicalRegister, QuantumRegister\n",
    "from qiskit.quantum_info import Statevector\n",
    "from qiskit.visualization import array_to_latex\n",
    "from qiskit.quantum_info import Operator\n",
    "from qiskit import transpile\n",
    "from qiskit_aer import AerSimulator\n",
    "from qiskit.visualization import plot_histogram\n",
    "import qiskit.tools.jupyter\n",
    "\n",
    "test_shots = 1000\n",
    "qubit_num = 2\n"
   ]
  },
  {
   "cell_type": "code",
   "execution_count": 169,
   "metadata": {},
   "outputs": [],
   "source": [
    "def simulate(circuit, circuit_name, qubit_num, shots):\n",
    "    state = Statevector.from_int(0, 2 ** qubit_num)\n",
    "    state = state.evolve(circuit)\n",
    "    # state.draw('latex')\n",
    "    state.draw('qsphere', filename=f'{circuit_name}_state_qsphere.png')\n",
    "    state.draw('hinton', filename=f'{circuit_name}_state_hinton.png')\n",
    "    array_to_latex(state)\n",
    "\n",
    "    meas = QuantumCircuit(qubit_num, qubit_num)\n",
    "    meas.barrier(range(qubit_num))\n",
    "    meas.measure(range(qubit_num), range(qubit_num))\n",
    "    qc = meas.compose(circuit, range(qubit_num), front=True)\n",
    "    qc.draw('mpl', filename=f'{circuit_name}_meas.png')\n",
    "\n",
    "    backend = AerSimulator()\n",
    "    qc_compiled = transpile(qc, backend)\n",
    "    job_sim = backend.run(qc_compiled, shots=shots)\n",
    "    result_sim = job_sim.result()\n",
    "    counts = result_sim.get_counts(qc_compiled)\n",
    "    print(counts)\n",
    "\n",
    "    plot_histogram(counts, filename=f'{circuit_name}_hist.png')"
   ]
  },
  {
   "attachments": {},
   "cell_type": "markdown",
   "metadata": {},
   "source": [
    "## 1. Make four bell states with python quiskizit \n",
    "$\\times$ 1000 shot （list out stats, like shot, probability...)"
   ]
  },
  {
   "attachments": {},
   "cell_type": "markdown",
   "metadata": {},
   "source": [
    "### 1.1 State 1\n",
    "$\\beta_{00}=\\dfrac{1}{\\sqrt{2}}(\\ket{00}+\\ket{11})$"
   ]
  },
  {
   "cell_type": "code",
   "execution_count": 170,
   "metadata": {},
   "outputs": [
    {
     "data": {
      "image/png": "[encoded data removed]",
      "text/plain": [
       "<Figure size 287.294x284.278 with 1 Axes>"
      ]
     },
     "execution_count": 170,
     "metadata": {},
     "output_type": "execute_result"
    }
   ],
   "source": [
    "circ_b00 = QuantumCircuit(qubit_num, qubit_num)\n",
    "circ_b00.h(0)\n",
    "circ_b00.cx(0, 1)\n",
    "circ_b00.draw('mpl')"
   ]
  },
  {
   "cell_type": "code",
   "execution_count": 171,
   "metadata": {},
   "outputs": [
    {
     "name": "stdout",
     "output_type": "stream",
     "text": [
      "{'00': 525, '11': 475}\n"
     ]
    }
   ],
   "source": [
    "simulate(circ_b00, './hw3_pic/b00', qubit_num, test_shots)"
   ]
  },
  {
   "attachments": {},
   "cell_type": "markdown",
   "metadata": {},
   "source": [
    "### 1.2 State 2\n",
    "$\\beta_{01}=\\dfrac{1}{\\sqrt{2}}(\\ket{00}-\\ket{11})$"
   ]
  },
  {
   "cell_type": "code",
   "execution_count": 172,
   "metadata": {},
   "outputs": [
    {
     "data": {
      "image/png": "[encoded data removed]",
      "text/plain": [
       "<Figure size 370.906x284.278 with 1 Axes>"
      ]
     },
     "execution_count": 172,
     "metadata": {},
     "output_type": "execute_result"
    }
   ],
   "source": [
    "circ_b01 = QuantumCircuit(qubit_num, qubit_num)\n",
    "circ_b01.x(0)\n",
    "circ_b01.h(0)\n",
    "circ_b01.cx(0, 1)\n",
    "circ_b01.draw('mpl')"
   ]
  },
  {
   "cell_type": "code",
   "execution_count": 173,
   "metadata": {},
   "outputs": [
    {
     "name": "stdout",
     "output_type": "stream",
     "text": [
      "{'00': 509, '11': 491}\n"
     ]
    }
   ],
   "source": [
    "simulate(circ_b01, './hw3_pic/b01', qubit_num, test_shots)\n"
   ]
  },
  {
   "attachments": {},
   "cell_type": "markdown",
   "metadata": {},
   "source": [
    "### 1.2 State 3\n",
    "$\\beta_{10}=\\dfrac{1}{\\sqrt{2}}(\\ket{10}+\\ket{01})$"
   ]
  },
  {
   "cell_type": "code",
   "execution_count": 174,
   "metadata": {},
   "outputs": [
    {
     "data": {
      "image/png": "[encoded data removed]",
      "text/plain": [
       "<Figure size 287.294x284.278 with 1 Axes>"
      ]
     },
     "execution_count": 174,
     "metadata": {},
     "output_type": "execute_result"
    }
   ],
   "source": [
    "circ_b10 = QuantumCircuit(qubit_num, qubit_num)\n",
    "circ_b10.x(1)\n",
    "circ_b10.h(0)\n",
    "circ_b10.cx(0, 1)\n",
    "circ_b10.draw('mpl')"
   ]
  },
  {
   "cell_type": "code",
   "execution_count": 175,
   "metadata": {},
   "outputs": [
    {
     "name": "stdout",
     "output_type": "stream",
     "text": [
      "{'10': 502, '01': 498}\n"
     ]
    }
   ],
   "source": [
    "simulate(circ_b10, './hw3_pic/b10', qubit_num, test_shots)"
   ]
  },
  {
   "attachments": {},
   "cell_type": "markdown",
   "metadata": {},
   "source": [
    "### 1.2 State 4\n",
    "$\\beta_{11}=\\dfrac{1}{\\sqrt{2}}(\\ket{10}-\\ket{01})$"
   ]
  },
  {
   "cell_type": "code",
   "execution_count": 176,
   "metadata": {},
   "outputs": [
    {
     "data": {
      "image/png": "[encoded data removed]",
      "text/plain": [
       "<Figure size 370.906x284.278 with 1 Axes>"
      ]
     },
     "execution_count": 176,
     "metadata": {},
     "output_type": "execute_result"
    }
   ],
   "source": [
    "circ_b11 = QuantumCircuit(qubit_num, qubit_num)\n",
    "circ_b11.x(0)\n",
    "circ_b11.x(1)\n",
    "circ_b11.h(0)\n",
    "circ_b11.cx(0, 1)\n",
    "circ_b11.draw('mpl')"
   ]
  },
  {
   "cell_type": "code",
   "execution_count": 177,
   "metadata": {},
   "outputs": [
    {
     "name": "stdout",
     "output_type": "stream",
     "text": [
      "{'01': 482, '10': 518}\n"
     ]
    }
   ],
   "source": [
    "simulate(circ_b11, './hw3_pic/b11', qubit_num, test_shots)"
   ]
  }
 ],
 "metadata": {
  "kernelspec": {
   "display_name": "Python 3",
   "language": "python",
   "name": "python3"
  },
  "language_info": {
   "codemirror_mode": {
    "name": "ipython",
    "version": 3
   },
   "file_extension": ".py",
   "mimetype": "text/x-python",
   "name": "python",
   "nbconvert_exporter": "python",
   "pygments_lexer": "ipython3",
   "version": "3.10.8"
  },
  "orig_nbformat": 4
 },
 "nbformat": 4,
 "nbformat_minor": 2
}
